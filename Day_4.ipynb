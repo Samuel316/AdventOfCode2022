{
 "cells": [
  {
   "cell_type": "code",
   "execution_count": 1,
   "id": "01a8bab1-5a7e-4f18-a5ba-bfbdc05bfb1e",
   "metadata": {},
   "outputs": [],
   "source": [
    "with open(\"Day_4.txt\") as file:\n",
    "    file = file.readlines()"
   ]
  },
  {
   "cell_type": "code",
   "execution_count": null,
   "id": "6def361b-65b6-4c93-bbdf-605068bfccb3",
   "metadata": {},
   "outputs": [],
   "source": []
  }
 ],
 "metadata": {
  "kernelspec": {
   "display_name": "Python 3 (ipykernel)",
   "language": "python",
   "name": "python3"
  },
  "language_info": {
   "codemirror_mode": {
    "name": "ipython",
    "version": 3
   },
   "file_extension": ".py",
   "mimetype": "text/x-python",
   "name": "python",
   "nbconvert_exporter": "python",
   "pygments_lexer": "ipython3",
   "version": "3.10.5"
  }
 },
 "nbformat": 4,
 "nbformat_minor": 5
}
