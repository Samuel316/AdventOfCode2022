{
 "cells": [
  {
   "cell_type": "code",
   "execution_count": 1,
   "id": "01a8bab1-5a7e-4f18-a5ba-bfbdc05bfb1e",
   "metadata": {},
   "outputs": [],
   "source": [
    "with open(\"Day_4.txt\") as file:\n",
    "    file = file.readlines()"
   ]
  },
  {
   "cell_type": "code",
   "execution_count": 90,
   "id": "6def361b-65b6-4c93-bbdf-605068bfccb3",
   "metadata": {},
   "outputs": [],
   "source": [
    "def does_contain(pair):\n",
    "    \n",
    "    start_1, end_1, start_2, end_2 = (int(i) for i in (pair.strip().replace(\",\", \"-\").split(\"-\")))\n",
    "    return ((start_1 <= start_2) and (end_1 >= end_2)) or ((start_2 <= start_1) and (end_2 >= end_1))"
   ]
  },
  {
   "cell_type": "code",
   "execution_count": 91,
   "id": "f8a8a890-84d0-4344-a0a5-dd15f374e8aa",
   "metadata": {},
   "outputs": [
    {
     "data": {
      "text/plain": [
       "580"
      ]
     },
     "execution_count": 91,
     "metadata": {},
     "output_type": "execute_result"
    }
   ],
   "source": [
    "# Part 1\n",
    "\n",
    "total = 0\n",
    "\n",
    "for line in file:\n",
    "    if does_contain(line):\n",
    "        total += 1\n",
    "        \n",
    "total"
   ]
  },
  {
   "cell_type": "code",
   "execution_count": null,
   "id": "b3c2638e-bf25-4431-9eb8-19c6af548c7c",
   "metadata": {},
   "outputs": [],
   "source": [
    "# Part 2\n",
    "\n"
   ]
  }
 ],
 "metadata": {
  "kernelspec": {
   "display_name": "Python 3 (ipykernel)",
   "language": "python",
   "name": "python3"
  },
  "language_info": {
   "codemirror_mode": {
    "name": "ipython",
    "version": 3
   },
   "file_extension": ".py",
   "mimetype": "text/x-python",
   "name": "python",
   "nbconvert_exporter": "python",
   "pygments_lexer": "ipython3",
   "version": "3.10.5"
  }
 },
 "nbformat": 4,
 "nbformat_minor": 5
}
