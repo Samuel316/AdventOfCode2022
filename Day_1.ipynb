{
 "cells": [
  {
   "cell_type": "code",
   "execution_count": 10,
   "id": "4a35c525-2aae-4650-beae-88dac612cdea",
   "metadata": {},
   "outputs": [],
   "source": [
    "with open(\"Day_1.txt\") as file:\n",
    "    file = file.readlines()"
   ]
  },
  {
   "cell_type": "code",
   "execution_count": 21,
   "id": "6c387e22-9573-4ae6-942f-4615bf47bccf",
   "metadata": {},
   "outputs": [
    {
     "data": {
      "text/plain": [
       "71502"
      ]
     },
     "execution_count": 21,
     "metadata": {},
     "output_type": "execute_result"
    }
   ],
   "source": [
    "# Part 1\n",
    "elves_total = []    \n",
    "calories = 0\n",
    "\n",
    "for line in file:\n",
    "    if line == \"\\n\":\n",
    "        elves_total.append(calories)\n",
    "        calories = 0\n",
    "    else:\n",
    "        calories += int(line)\n",
    "        \n",
    "max(elves_total)"
   ]
  },
  {
   "cell_type": "code",
   "execution_count": 36,
   "id": "fd0df4c3-23a4-4d40-932a-0a7b7d68bcc6",
   "metadata": {},
   "outputs": [
    {
     "data": {
      "text/plain": [
       "208191"
      ]
     },
     "execution_count": 36,
     "metadata": {},
     "output_type": "execute_result"
    }
   ],
   "source": [
    "# Part 2\n",
    "elves_total.sort()\n",
    "sum(elves_total[-3:])"
   ]
  }
 ],
 "metadata": {
  "kernelspec": {
   "display_name": "Python 3 (ipykernel)",
   "language": "python",
   "name": "python3"
  },
  "language_info": {
   "codemirror_mode": {
    "name": "ipython",
    "version": 3
   },
   "file_extension": ".py",
   "mimetype": "text/x-python",
   "name": "python",
   "nbconvert_exporter": "python",
   "pygments_lexer": "ipython3",
   "version": "3.10.5"
  }
 },
 "nbformat": 4,
 "nbformat_minor": 5
}
