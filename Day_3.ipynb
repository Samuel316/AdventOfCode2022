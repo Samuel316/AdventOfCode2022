{
 "cells": [
  {
   "cell_type": "code",
   "execution_count": 11,
   "id": "c46ba3db-79c5-4328-8c28-5b7ba406b184",
   "metadata": {},
   "outputs": [],
   "source": [
    "import string\n",
    "\n",
    "from itertools import islice\n",
    "\n",
    "with open(\"Day_3.txt\") as file:\n",
    "    file = file.readlines()"
   ]
  },
  {
   "cell_type": "code",
   "execution_count": 9,
   "id": "c0201678-4557-43a6-a7ad-180ff8d78cb5",
   "metadata": {},
   "outputs": [
    {
     "data": {
      "text/plain": [
       "7878"
      ]
     },
     "execution_count": 9,
     "metadata": {},
     "output_type": "execute_result"
    }
   ],
   "source": [
    "# Part 1\n",
    "\n",
    "priority = {char:i+1 for i, char in enumerate(string.ascii_lowercase + string.ascii_uppercase)}\n",
    "\n",
    "total_priority = 0\n",
    "\n",
    "for line in file:\n",
    "    line = line.strip()\n",
    "    divider = len(line)//2\n",
    "    \n",
    "    compartment_1, compartment_2 = (line[:divider], line[divider:])\n",
    "    \n",
    "    assert len(compartment_1) == len(compartment_2)\n",
    "    \n",
    "    shared = set(compartment_1).intersection(set(compartment_2))\n",
    "    \n",
    "    for char in shared:\n",
    "        total_priority += priority[char]\n",
    "        \n",
    "total_priority"
   ]
  },
  {
   "cell_type": "code",
   "execution_count": 37,
   "id": "9f8a0ef1-77c5-43f0-98f4-65bd026b9aca",
   "metadata": {},
   "outputs": [
    {
     "name": "stdout",
     "output_type": "stream",
     "text": [
      "2760\n"
     ]
    }
   ],
   "source": [
    "# Part 2\n",
    "\n",
    "total_priority = 0\n",
    "\n",
    "for index in range(0, len(file), 3):\n",
    "    lines = file[index: index+3]\n",
    "    \n",
    "    lines = [line.strip() for line in lines]\n",
    "    \n",
    "    shared = set(lines[0]) & set(lines[1]) & set(lines[2])\n",
    "    \n",
    "    total_priority += priority[shared.pop()]\n",
    "        \n",
    "print(total_priority)"
   ]
  },
  {
   "cell_type": "code",
   "execution_count": null,
   "id": "154bb1fd-6bb7-4681-a93f-f5a910a902ea",
   "metadata": {},
   "outputs": [],
   "source": []
  }
 ],
 "metadata": {
  "kernelspec": {
   "display_name": "Python 3 (ipykernel)",
   "language": "python",
   "name": "python3"
  },
  "language_info": {
   "codemirror_mode": {
    "name": "ipython",
    "version": 3
   },
   "file_extension": ".py",
   "mimetype": "text/x-python",
   "name": "python",
   "nbconvert_exporter": "python",
   "pygments_lexer": "ipython3",
   "version": "3.10.5"
  }
 },
 "nbformat": 4,
 "nbformat_minor": 5
}
