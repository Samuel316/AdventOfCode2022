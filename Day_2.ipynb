{
 "cells": [
  {
   "cell_type": "code",
   "execution_count": 2,
   "id": "7d7e2368-a324-4847-81fd-3e11a2e8e983",
   "metadata": {},
   "outputs": [],
   "source": [
    "with open(\"Day_2.txt\") as file:\n",
    "    file = file.readlines()"
   ]
  },
  {
   "cell_type": "code",
   "execution_count": 37,
   "id": "e31e1e3c-2fe9-4ea8-a95a-371fe415c66b",
   "metadata": {
    "tags": []
   },
   "outputs": [
    {
     "name": "stdout",
     "output_type": "stream",
     "text": [
      "15691\n"
     ]
    }
   ],
   "source": [
    "total_score = 0\n",
    "\n",
    "for line in file:\n",
    "    line = line.strip()\n",
    "    play_1 = int(line[0].replace(\"A\", \"1\").replace(\"B\", \"2\").replace(\"C\", \"3\"))\n",
    "    play_2 = int(line[-1].replace(\"X\", \"1\").replace(\"Y\", \"2\").replace(\"Z\", \"3\"))\n",
    "    \n",
    "    diff = play_1 - play_2\n",
    "\n",
    "    # Draw\n",
    "    if diff == 0:\n",
    "        score = play_2 + 3\n",
    "        total_score += score\n",
    "    # Win\n",
    "    elif (diff == 2) or (diff == -1):\n",
    "        score = play_2 + 6\n",
    "        total_score += score \n",
    "    # Loss\n",
    "    elif (diff == -2) or (diff == 1):\n",
    "        score = play_2\n",
    "        total_score += score\n",
    "    \n",
    "print(total_score)"
   ]
  },
  {
   "cell_type": "code",
   "execution_count": null,
   "id": "9435f562-58fb-456e-8bfa-ab76400cf977",
   "metadata": {},
   "outputs": [],
   "source": [
    "total_score = 0\n",
    "\n",
    "for line in file:\n",
    "    line = line.strip()\n",
    "    play_1 = int(line[0].replace(\"A\", \"1\").replace(\"B\", \"2\").replace(\"C\", \"3\"))\n",
    "    play_2 = int(line[-1].replace(\"X\", \"1\").replace(\"Y\", \"2\").replace(\"Z\", \"3\"))\n",
    "    \n",
    "    diff = play_1 - play_2\n",
    "\n",
    "    # Draw\n",
    "    if diff == 0:\n",
    "        score = play_2 + 3\n",
    "        total_score += score\n",
    "    # Win\n",
    "    elif (diff == 2) or (diff == -1):\n",
    "        score = play_2 + 6\n",
    "        total_score += score \n",
    "    # Loss\n",
    "    elif (diff == -2) or (diff == 1):\n",
    "        score = play_2\n",
    "        total_score += score\n",
    "    \n",
    "print(total_score)"
   ]
  }
 ],
 "metadata": {
  "kernelspec": {
   "display_name": "Python 3 (ipykernel)",
   "language": "python",
   "name": "python3"
  },
  "language_info": {
   "codemirror_mode": {
    "name": "ipython",
    "version": 3
   },
   "file_extension": ".py",
   "mimetype": "text/x-python",
   "name": "python",
   "nbconvert_exporter": "python",
   "pygments_lexer": "ipython3",
   "version": "3.10.5"
  }
 },
 "nbformat": 4,
 "nbformat_minor": 5
}
